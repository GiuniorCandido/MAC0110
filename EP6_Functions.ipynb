{
 "cells": [
  {
   "cell_type": "markdown",
   "metadata": {},
   "source": [
    "Neste exercício vo excreverá quatro função: primo(), goldbach(), exponencial() e logistica(). Adiante é descrito o comportamento de cada função e alguns exemplos."
   ]
  },
  {
   "cell_type": "code",
   "execution_count": null,
   "metadata": {},
   "outputs": [],
   "source": [
    "primo()\n",
    "A função primo() recebe um número inteiro n e retorna True se n é um número primo e False em caso contrário.\n",
    "\n",
    "Um número inteiro maior que 1 é primo se seus únicos divisores positivos são 1 e ele mesmo.\n",
    "\n",
    "Exemplos no Python Shell\n",
    "A seguir estão alguns exemplos de execução da função no Python Shell.\n",
    "\n",
    "    In [19]: primo(1)\n",
    "    Out[19]: False\n",
    "\n",
    "    In [20]: primo(2)\n",
    "    Out[20]: True\n",
    "\n",
    "    In [21]: primo(27644437)\n",
    "    Out[21]: True\n",
    "\n",
    "    In [22]: primo(327183)\n",
    "    Out[22]: False\n",
    "\n",
    "    In [23]: primo(2321)\n",
    "    Out[23]: False\n",
    "\n",
    "    In [24}: primo(-5)\n",
    "    Out[24]: False"
   ]
  },
  {
   "cell_type": "code",
   "execution_count": 4,
   "metadata": {},
   "outputs": [],
   "source": [
    "def primo(n):\n",
    "    '''(int) -> bool\n",
    "\n",
    "       Recebe um número inteiro n e retorna True se n é primo.\n",
    "       Em caso contrário a função retorna False.\n",
    "    '''\n",
    "    # remova o print() e escreva suas função a seguire \n",
    "    while n>=0:\n",
    "        \n",
    "        # n é primo até que se prove o contrário\n",
    "        if n == 2 or (n != 1 and n % 2 == 1): # 2 é primo , 1 não é primo\n",
    "            é_primo = True\n",
    "        else:\n",
    "            é_primo = False  # pares maiores que 2 não são primos\n",
    "\n",
    "        # procure por um divisor ímpar de n entre 2 e n-1\n",
    "        divisor = 3\n",
    "        while divisor < n // 2 and é_primo: # equivalente a \"div ... and é_primo == True:\"\n",
    "            if n % divisor == 0:\n",
    "                é_primo = False\n",
    "            divisor += 2 \n",
    "\n",
    "        if é_primo: \n",
    "             return True\n",
    "        else:\n",
    "            return False\n",
    "\n",
    "    if n<0:\n",
    "        return False    \n",
    "  \n",
    "\n"
   ]
  },
  {
   "cell_type": "code",
   "execution_count": 9,
   "metadata": {},
   "outputs": [
    {
     "data": {
      "text/plain": [
       "False"
      ]
     },
     "execution_count": 9,
     "metadata": {},
     "output_type": "execute_result"
    }
   ],
   "source": [
    "primo(1)"
   ]
  },
  {
   "cell_type": "markdown",
   "metadata": {},
   "source": [
    "goldbach()\n",
    "Esta função é relacionada com a Conjectura de Goldbach.\n",
    "\n",
    "A função goldbach() recebe um inteiro positivo n e se n é soma de dois primos p e q a função retorna True, p e q. Em caso contrário a função retorna False, 0 e 0.\n",
    "\n",
    "Para, por exemplo, sua função retornar False, 0 e 0, basta escrever\n",
    "\n",
    "    return False, 0, 0\n",
    "Aqui você pode simular uma função exemplo que retorna 2 valores.\n",
    "\n",
    "Exemplos no Python Shell\n",
    "A seguir estão alguns exemplos de execução da função no Python Shell.\n",
    "\n",
    "    In [50]: b1, p1, q1 = goldbach(1)\n",
    "\n",
    "    In [51]: b1\n",
    "    Out[51]: False\n",
    "\n",
    "    In [52]: q1\n",
    "    Out[52]: 0\n",
    "\n",
    "    In [53]: p1\n",
    "    Out[53]: 0\n",
    "\n",
    "    In [54]: b8, p8, q8 = goldbach(8)\n",
    "\n",
    "    In [55]: print(b8, p8, q8)\n",
    "    True 3 5\n",
    "\n",
    "    In [56]: b12, p12, q12 = goldbach(12)\n",
    "\n",
    "    In [57]: print(b12, p12, q12)\n",
    "    True 5 7\n",
    "\n",
    "    In [58]: b15, p15, q15 = goldbach(15)\n",
    "\n",
    "    In [59]: print(b15, p15, q15)\n",
    "    True 2 13\n",
    "\n",
    "    In [60]: b1248, p1248, q1248 = goldbach(1248)\n",
    "\n",
    "    In [61]: print(b1248, p1248, q1248)\n",
    "    True 11 1237"
   ]
  },
  {
   "cell_type": "code",
   "execution_count": 5,
   "metadata": {},
   "outputs": [],
   "source": [
    "def goldbach(n):\n",
    "    '''(int) -> bool, int, int \n",
    "\n",
    "       Recebe um número inteiro n e retorna True se n pode\n",
    "       ser escrito como a soma de dois nḿeros primos. \n",
    "       Nesse caso a função deve retornar dois números primos\n",
    "       p e q tais que p + q == n.\n",
    "\n",
    "       Em caso contrário a função retorna False, 0, 0.\n",
    "    '''\n",
    "    # remova o print() e escreva suas função a seguir \n",
    "    n = int(n)\n",
    "    i = 1\n",
    "    gb = False\n",
    "    if n < 0:\n",
    "        n = - n\n",
    "    if n > 3:\n",
    "        while i < n:\n",
    "            if primo(n - i) and primo(i):\n",
    "                return True, i, n - i\n",
    "            i += 1\n",
    "    elif 0 <= n <= 3 and not gb:\n",
    "        return False, 0, 0\n",
    "    return False, 0, 0"
   ]
  },
  {
   "cell_type": "code",
   "execution_count": 6,
   "metadata": {},
   "outputs": [
    {
     "data": {
      "text/plain": [
       "(True, 2, 2)"
      ]
     },
     "execution_count": 6,
     "metadata": {},
     "output_type": "execute_result"
    }
   ],
   "source": [
    "goldbach(4)"
   ]
  },
  {
   "cell_type": "code",
   "execution_count": 7,
   "metadata": {},
   "outputs": [
    {
     "data": {
      "text/plain": [
       "(False, 0)"
      ]
     },
     "execution_count": 7,
     "metadata": {},
     "output_type": "execute_result"
    }
   ],
   "source": [
    "goldbach(17)"
   ]
  },
  {
   "cell_type": "code",
   "execution_count": 8,
   "metadata": {},
   "outputs": [
    {
     "data": {
      "text/plain": [
       "(True, 2, 2)"
      ]
     },
     "execution_count": 8,
     "metadata": {},
     "output_type": "execute_result"
    }
   ],
   "source": [
    "goldbach(-4)"
   ]
  },
  {
   "cell_type": "markdown",
   "metadata": {},
   "source": [
    "exponencial()\n",
    "Não é necessário, mas caso você tenha curiosidade, o vídeo em que se baseou esta função pode ser visto no final deste enunciado.\n",
    "\n",
    "A função exponencial() recebe como parâmetros:\n",
    "\n",
    "o número n0 de indivíduos infectados em um dia inicial que chamaremos de dia 0;\n",
    "o número diário médio e de indivíduos com quem alguém infectado e exposto;\n",
    "a probabilidade p de uma exposição resultar em uma infecção;\n",
    "um inteiro d, d ≥ 0.\n",
    "A função retorna o número total de indivíduos infectados até o dia d determinado por (n0, e, p). Esse valor é calculado da seguinte maneira:\n",
    "\n",
    "no dia 0 o número de infectados é n0;\n",
    "no dia 1 o número de infectados é n1 = n0 + e × p × n0 = (1 + e × p) × n0;\n",
    "no dia 2 o número de infectados é n2 = n1 + e × p × n1 = (1 + e × p) × n1 = (1 + e × p)2 × n0;\n",
    "no dia 3 o número de infectados é\n",
    "n3 = n2 + e × p × n2 = (1 + e × p) × n2 = (1 + e × p)3 × n0;\n",
    "…\n",
    "no dia d o número de infectados é\n",
    "nd = (1 + e × p)d × n0.\n",
    "Para estarmos tod@s calculando os mesmos valores faça o seguinte:\n",
    "\n",
    "todos valores intermediários computados pela função devem ser float, entretanto o valor retornado pela função deverá ser int.\n",
    "\n",
    "Para essa conversão de float para int utilize a função int() do Python.\n",
    "\n",
    "\n",
    "In [62]: int(5.0)\n",
    "Out[62]: 5\n",
    "\n",
    "In [63]: int(5)\n",
    "Out[63]: 5\n",
    "\n",
    "In [64]: int(5.7)\n",
    "Out[64]: 5\n",
    "\n",
    "In [65]: int(5.99)\n",
    "Out[65]: 5\n",
    "O distanciamente físico entre indivíduos dimunui o valor de e. Práticas de higiene como lavar as mãos diminuem a probabilidade p.\n",
    "\n",
    "Gráfico\n",
    "Veja um gráfico da função para n0 = 1, e = 5 e p = 0.1.\n",
    "\n",
    "crescimento exponencial\n",
    "\n",
    "Exemplos de cálculos\n",
    "Suponha que n0 = 1, e = 5 e p = 0.1. Então para o dia\n",
    "\n",
    "d = 0 o número de infectados é n0 = 1;\n",
    "d = 1 o número de infectados é n1 = (1 + 5*0.1)*1 = 1.5, logo n1 = 1.\n",
    "d = 2 o número de infectados é n2 = (1 + 5*0.1)*(1 + 5*0.1)*1 = 2.25, logo n2 = 2.\n",
    "d = 3 o número de infectados é n3 = (1 + 5*0.1)*(1 + 5*0.1)*(1 +5*0.1)*1 = 3.375, logo n3 = 3.\n",
    "Exemplos no Python Shell\n",
    "A seguir estão alguns exemplos de execução da função no Python Shell.\n",
    "\n",
    "In [66]: exponencial(1, 5, 0.1, 0)\n",
    "Out[66]: 1\n",
    "\n",
    "In [67]: exponencial(1, 5, 0.1, 1)\n",
    "Out[67]: 1\n",
    "\n",
    "In [68]: exponencial(1, 5, 0.1, 2)\n",
    "Out[68]: 2\n",
    "\n",
    "In [69]: exponencial(1, 5, 0.1, 5)\n",
    "Out[69]: 7\n",
    "\n",
    "In [70]: exponencial(1, 5, 0.1, 20)\n",
    "Out[70]: 3325\n",
    "\n",
    "In [71]: exponencial(1, 5, 0.1, 30)\n",
    "Out[71]: 191751\n",
    "\n",
    "In [72]: exponencial(1, 5, 0.1, 40)\n",
    "Out[72]: 11057332"
   ]
  },
  {
   "cell_type": "code",
   "execution_count": 56,
   "metadata": {},
   "outputs": [],
   "source": [
    "def exponencial(n0, e, p, d):\n",
    "    '''(int, int, float, int) -> int \n",
    "\n",
    "       Recebe \n",
    "\n",
    "         * o número `n0` de indivíduos infectados em um dia 0;\n",
    "         * o número diário médio `e` de indivíduos com quem alguém \n",
    "           infectado é exposto;\n",
    "         * a probabilidade `p` de uma exposição resultar em uma infecção;\n",
    "         * um inteiro `d`,  d >=  0. \n",
    "\n",
    "      Retorna o número total de indivíduos infectados até o dia d \n",
    "      determinado por (n0, e, p).\n",
    "    '''\n",
    "    return int(((1+e*p)**d)*n0)\n",
    "    \n",
    "    "
   ]
  },
  {
   "cell_type": "code",
   "execution_count": 57,
   "metadata": {},
   "outputs": [
    {
     "data": {
      "text/plain": [
       "1"
      ]
     },
     "execution_count": 57,
     "metadata": {},
     "output_type": "execute_result"
    }
   ],
   "source": [
    "exponencial(1, 5, 0.1, 0)"
   ]
  },
  {
   "cell_type": "code",
   "execution_count": 58,
   "metadata": {},
   "outputs": [
    {
     "data": {
      "text/plain": [
       "1"
      ]
     },
     "execution_count": 58,
     "metadata": {},
     "output_type": "execute_result"
    }
   ],
   "source": [
    "exponencial(1, 5, 0.1, 1)"
   ]
  },
  {
   "cell_type": "code",
   "execution_count": 59,
   "metadata": {},
   "outputs": [
    {
     "data": {
      "text/plain": [
       "2"
      ]
     },
     "execution_count": 59,
     "metadata": {},
     "output_type": "execute_result"
    }
   ],
   "source": [
    "exponencial(1, 5, 0.1, 2)"
   ]
  },
  {
   "cell_type": "code",
   "execution_count": 60,
   "metadata": {},
   "outputs": [
    {
     "data": {
      "text/plain": [
       "7"
      ]
     },
     "execution_count": 60,
     "metadata": {},
     "output_type": "execute_result"
    }
   ],
   "source": [
    "exponencial(1, 5, 0.1, 5)"
   ]
  },
  {
   "cell_type": "code",
   "execution_count": 61,
   "metadata": {},
   "outputs": [
    {
     "data": {
      "text/plain": [
       "3325"
      ]
     },
     "execution_count": 61,
     "metadata": {},
     "output_type": "execute_result"
    }
   ],
   "source": [
    "exponencial(1, 5, 0.1, 20)"
   ]
  },
  {
   "cell_type": "code",
   "execution_count": 62,
   "metadata": {},
   "outputs": [
    {
     "data": {
      "text/plain": [
       "191751"
      ]
     },
     "execution_count": 62,
     "metadata": {},
     "output_type": "execute_result"
    }
   ],
   "source": [
    " exponencial(1, 5, 0.1, 30)"
   ]
  },
  {
   "cell_type": "code",
   "execution_count": 63,
   "metadata": {},
   "outputs": [
    {
     "data": {
      "text/plain": [
       "11057332"
      ]
     },
     "execution_count": 63,
     "metadata": {},
     "output_type": "execute_result"
    }
   ],
   "source": [
    "exponencial(1, 5, 0.1, 40)"
   ]
  },
  {
   "cell_type": "markdown",
   "metadata": {},
   "source": [
    "logistica()\n",
    "Não é necessário, mas caso você tenha curiosidade, o vídeo em que se baseou esta função pode ser visto no final deste enunciado.\n",
    "\n",
    "A função logistica leva em consideração o fato de que na prática funções exponenciais não são encontradas. No exemplo do surto por coronavírus temos que o número de indivíduos infectados não pode crescer indefiniamente. Um limite óbvio é o número n de indivíduos na população. Esse valor n é utilizado pela função logistica() que inicialmente tem um comportamento muito próximo da função exponencial()\n",
    "\n",
    "A função logistica() recebe como parâmetros:\n",
    "\n",
    "o número n0 de indivíduos infectados em um dia inicial que chamaremos de dia 0;\n",
    "o número diário médio e de indivíduos com quem alguém infectado e exposto;\n",
    "a probabilidade p de uma exposição resultar em uma infecção;\n",
    "o número n de indivíduos na população; e\n",
    "um inteiro d, d ≥ 0.\n",
    "A função retorna o número total de indivíduos infectados até o dia d determinado por (n0, e, p, n). Esse valor é calculado da seguinte maneira:\n",
    "\n",
    "no dia 0 o número de infectados é n0;\n",
    "no dia 1 o número de infectados é\n",
    "n1=n0+e×p×(1−n0n)×n0=(1+e×p×(1−n0n))×n0;\n",
    "no dia 2 o número de infectados é\n",
    "n2=n1+e×p×(1−n1n)×n1=(1+e×p×(1−n1n))×n1;\n",
    "no dia 3 o número de infectados é\n",
    "n3=n2+e×p×(1−n2n)×n2=(1+e×p×(1−n2n))×n2;\n",
    "…\n",
    "no dia d o número de infectados é\n",
    "nd=(1+e×p×(1−nd−1n))×nd−1.\n",
    "Para estarmos tod@s calculando os mesmos valores faça o seguinte:\n",
    "\n",
    "todos valores intermediários computados pela função devem ser float, entretanto o valor retornado pela função deverá ser int.\n",
    "\n",
    "Para essa conversão de float para int utilize a função int() do Python.\n",
    "\n",
    "Exemplos de cálculos\n",
    "Suponha que n0 = 1, e = 5, p = 0.1 e n=10000. Então para o dia\n",
    "\n",
    "d = 0 o número de infectados é n0 = 1;\n",
    "d = 1 o número de infectados é n1 = (1 + 5*0.1*(1 - 1/10000))*1 = 1.499, logo n1 = 1.\n",
    "d = 2 o número de infectados é n2 = (1 + 5*0.1*(1 - 1.499/10000))*1.499 = 2.248, logo n2 = 2.\n",
    "d = 3 o número de infectados é n3 = (1 + 5*0.1*(1 - 2.248/10000))*2.248 = 3.371, logo n3 = 3.\n",
    "d = 4 o número de infectados é n4 = (1 + 5*0.1*(1 - 3.371/10000))*3.371 = 5.055, logo n4 = 5.\n",
    "Gráfico\n",
    "Veja um gráfico da função para n_0 = 1, e = 5, p = 0.1 e n=10000.\n",
    "\n",
    "crescimento logístico\n",
    "\n",
    "Exemplos no Python Shell\n",
    "A seguir estão alguns exemplos de execução da função no Python Shell.\n",
    "\n",
    "\n",
    "In [77]: logistica(1, 5, 0.1, 10000, 0)\n",
    "Out[77]: 1\n",
    "\n",
    "In [78]: logistica(1, 5, 0.1, 10000, 1)\n",
    "Out[78]: 1\n",
    "\n",
    "In [79]: logistica(1, 5, 0.1, 10000, 2)\n",
    "Out[79]: 2\n",
    "\n",
    "In [80]: logistica(1, 5, 0.1, 10000, 3)\n",
    "Out[80]: 3\n",
    "\n",
    "In [81]: logistica(1, 5, 0.1, 10000, 4)\n",
    "Out[81]: 5\n",
    "\n",
    "In [82]: logistica(1, 5, 0.1, 10000, 10)\n",
    "Out[82]: 57\n",
    "\n",
    "In [83]: logistica(1, 5, 0.1, 10000, 20)\n",
    "Out[83]: 2701\n",
    "\n",
    "In [84]: logistica(1, 5, 0.1, 10000, 30)\n",
    "Out[84]: 9923\n",
    "\n",
    "In [85]: logistica(1, 5, 0.1, 10000, 40)\n",
    "Out[85]: 9999"
   ]
  },
  {
   "cell_type": "code",
   "execution_count": 91,
   "metadata": {},
   "outputs": [],
   "source": [
    "def logistica(n0, e, p, n, d):\n",
    "    '''(int, int, float, int, int) -> int\n",
    " \n",
    "       Recebe \n",
    "\n",
    "         * o número `n0` de indivíduos infectados em um dia 0;\n",
    "         * o número diário médio `e` de indivíduos com quem alguém \n",
    "           infectado é exposto;\n",
    "         * a probabilidade `p` de uma exposição resultar em uma infecção;\n",
    "         * o número `n` de indivíduos na população; e\n",
    "         * um inteiro `d`, d >= 0. \n",
    "\n",
    "       Retorna o número total de indivíduos infectados até o dia `d` \n",
    "       determinado por (n0, e, p, n).\n",
    "\n",
    "    '''\n",
    "    res = 1\n",
    "    while res <= d:\n",
    "        n0 = (1 +e*p*(1-n0/n))*n0\n",
    "        res+=1\n",
    "        print(n0)    \n",
    "    return int(n0)"
   ]
  },
  {
   "cell_type": "code",
   "execution_count": 84,
   "metadata": {},
   "outputs": [
    {
     "data": {
      "text/plain": [
       "9999"
      ]
     },
     "execution_count": 84,
     "metadata": {},
     "output_type": "execute_result"
    }
   ],
   "source": [
    "logistica(1, 5, 0.1, 10000,40)"
   ]
  },
  {
   "cell_type": "code",
   "execution_count": 92,
   "metadata": {},
   "outputs": [
    {
     "name": "stdout",
     "output_type": "stream",
     "text": [
      "1.4999500000000001\n",
      "2.249812507499875\n",
      "3.374465678433867\n",
      "5.061129166720055\n",
      "7.590412998657971\n",
      "11.382738779512447\n",
      "17.067629832162538\n",
      "25.586879548839423\n",
      "38.3475849030068\n",
      "57.44785049111553\n"
     ]
    },
    {
     "data": {
      "text/plain": [
       "57"
      ]
     },
     "execution_count": 92,
     "metadata": {},
     "output_type": "execute_result"
    }
   ],
   "source": [
    "logistica(1, 5, 0.1, 10000, 10)"
   ]
  },
  {
   "cell_type": "code",
   "execution_count": null,
   "metadata": {},
   "outputs": [],
   "source": [
    "logistica(1, 5, 0.1, 10000, 20)"
   ]
  }
 ],
 "metadata": {
  "kernelspec": {
   "display_name": "Python 3",
   "language": "python",
   "name": "python3"
  },
  "language_info": {
   "codemirror_mode": {
    "name": "ipython",
    "version": 3
   },
   "file_extension": ".py",
   "mimetype": "text/x-python",
   "name": "python",
   "nbconvert_exporter": "python",
   "pygments_lexer": "ipython3",
   "version": "3.7.6"
  }
 },
 "nbformat": 4,
 "nbformat_minor": 4
}
