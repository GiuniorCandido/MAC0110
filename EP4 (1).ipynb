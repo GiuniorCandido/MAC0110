{
 "cells": [
  {
   "cell_type": "markdown",
   "metadata": {},
   "source": [
    "Introdução\n",
    "\n",
    "A motivação para esse exercício é, mais uma vez, treinar a sua atenção a detalhes. Vamos ver também uma forma de codificar informações de forma compacta.\n",
    "\n",
    "Considere a seguinte região ou mapa do plano cartesiano.\n",
    "\n",
    "Area de interesse em cinza mais as linhas em negrito.\n",
    "\n",
    "As linhas tracejadas foram desenhadas apenas para facilitar a visualização das coordenadas. Grande parte dos vértices tem coordenadas inteiras, mas alguns vértices podem ter coordenadas distantes metade (0.5) ou um quarto (0.25) de uma coordenada inteira.\n",
    "\n",
    "Chamaremos de alvo qualquer ponto (x, y) que está na região em cinza (azulado?). Portanto os pontos em regiões em branco também não fazem parte do alvo. Os pontos em contornos como (2, 4) e (2.0, 2.25), (2.5, 3), (0, 0) e (2, 1) que estão nas linhas em negrito também fazem parte do alvo. Já, pontos nos contornos desenhados como linhas pontilhas como (-2.5, 0.5), (2.0, 2.5) e (0, 2.5) não fazem parte do alvo.\n",
    "\n",
    "O que você deve fazer\n",
    "Escreva um programa que leia 2 reais que correspondem à coordenada de um tiro e imprima True caso o tiro tenha acertado parte do alvo ou False caso o tiro tenha sido fora do alvo.\n",
    "\n",
    "O arquivo ep04.py contém um esqueleto do programa que você deve fazer.\n",
    "O comportamento esperado do programa é ilustrado nos exemplos abaixo.\n",
    "\n",
    "Exemplos\n",
    "\n",
    "para a coordenada (2,4) a resposta deve ser True\n",
    "para a coordenada (-2.5,0.5) a resposta deve ser False\n",
    "para a coordenada (0,1) a resposta deve ser True\n",
    "para a coordenada (0,1.01) a resposta deve ser False\n",
    "para a coordenada (0,2.15) a resposta deve ser True\n",
    "para a coordenada (0,2.5) a resposta deve ser False\n",
    "para a coordenada (3,1) a resposta deve ser True\n",
    "para a coordenada (3,4) a resposta deve ser False\n",
    "para a coordenada (-3,2.1415) a resposta deve ser True\n",
    "para a coordenada (-5.13,9.721) a resposta deve ser False"
   ]
  },
  {
   "cell_type": "markdown",
   "metadata": {},
   "source": [
    "A ideia do programa: \n",
    "\n",
    "entrada: par (x,y)\n",
    "\n",
    "##### DESENVOLVIMENTO: definir os intervalos dos pares x e y  \n",
    "\n",
    "primeiro defino os pares que pertencem ao alvo, depois eu restrinjo  \n",
    "\n",
    "saída:\n",
    "        True - no Alvo - PARTE AZUL + LINHAS EM NEGRITO\n",
    "        \n",
    "        False - Fora do Alvo -PARTE BRANCA + LINHAS PONTILHADAS"
   ]
  },
  {
   "cell_type": "code",
   "execution_count": 12,
   "metadata": {},
   "outputs": [
    {
     "name": "stdout",
     "output_type": "stream",
     "text": [
      " digite o par x: -2.5\n",
      " digite o par y: 0.5\n",
      "para a coordenada (-2.5, 0.5) a resposta deve ser False\n"
     ]
    }
   ],
   "source": [
    "x = float(input(' digite o par x: '))\n",
    "y = float(input(' digite o par y: '))\n",
    "\n",
    "#verificar se esta dentro no quadrado maior e na borda:\n",
    "if -3 <= x <= 2 and 0 <= y <= 4 or  2 <= x <= 3 and 1 <= y <=3:\n",
    "    #print('para a coordenada', (x,y) , 'a resposta deve ser True')\n",
    "    #as partes brancas - quadrados vazios\n",
    "    if -2.5 <= x <= -1.5  and 0.5 <= y <= 1.5:\n",
    "        print('para a coordenada', (x,y) , 'a resposta deve ser False')\n",
    "    elif -2.5 <= x <= -1.5 and 2.5 <= y <= 3.5:\n",
    "        print('para a coordenada', (x,y) , 'a resposta deve ser False')\n",
    "   #quadrado azul inscrito\n",
    "    elif 1.75 <= x <= 2.25 and 1.75 <= y <= 2.25:\n",
    "        print('para a coordenada', (x,y) , 'a resposta deve ser True')\n",
    "    #quadrado circunscrito \n",
    "    elif 1.5 <= x <= 2.5  and 1.5 <= y <= 2.5:\n",
    "        print('para a coordenada', (x,y) , 'a resposta deve ser False')\n",
    "    #parte de dentro azul do circulo\n",
    "    elif x**2 + y**2 - 4*y + 3.75 < 0:\n",
    "        print('para a coordenada', (x,y) , 'a resposta deve ser True')\n",
    "    #círculo branco:\n",
    "    elif x**2 + y**2 - 4*y + 3 < 0:   #área do círculo, parte branca\n",
    "        print('para a coordenada', (x,y) , 'a resposta deve ser False')\n",
    "    else:\n",
    "         print('para a coordenada', (x,y) , 'a resposta deve ser True')\n",
    "else:\n",
    "    print('para a coordenada', (x,y) , 'a resposta deve ser False')\n",
    "        \n",
    "    "
   ]
  },
  {
   "cell_type": "markdown",
   "metadata": {},
   "source": [
    "Logica do problema:\n",
    "\n",
    "\n",
    "linha 5:\n",
    "x,y ta entre os intervalos? ta dentro do alvo grande?\n",
    "\n",
    "se sim, segue pro if da linha 8.\n",
    "se nao, pula tudo e segue direto pro else da linha 25 e printa False\n",
    "\n",
    "linha 8:\n",
    "x,y ta dentro do quadrado da esquerda debaixo?\n",
    "\n",
    "se sim, printa False \n",
    "se nao, segue pro elif da linha 10\n",
    "\n",
    "linha 10:\n",
    "x,y ta dentro do quad da esq de cima?\n",
    "\n",
    "se sim, printa False\n",
    "se nao, segue pro elif da linha 13\n",
    "\n",
    "linha 13:\n",
    "x,y ta dentro quadrado maior da direita?\n",
    "\n",
    "se sim, printa False\n",
    "\n",
    "(e aqui ta o erro, pq dentro desse quad maior pode ser tanto False qt True)"
   ]
  },
  {
   "cell_type": "markdown",
   "metadata": {},
   "source": [
    "outra maneira de resolver apenas com if else:"
   ]
  },
  {
   "cell_type": "code",
   "execution_count": 15,
   "metadata": {},
   "outputs": [
    {
     "name": "stdout",
     "output_type": "stream",
     "text": [
      " digite o par x: 2\n",
      " digite o par y: 4\n",
      "para a coordenada (2.0, 4.0) a resposta deve ser True\n"
     ]
    }
   ],
   "source": [
    "x = float(input(' digite o par x: '))\n",
    "y = float(input(' digite o par y: '))\n",
    "if -3 <= x <= 3 and 0 <= y <= 4:\n",
    "    if (-2.5 <= x <= -1.5 and 0.5 <= y <= 1.5) or (-2.5 <= x <= -1.5 and 2.5 <= y <= 3.5) or (1.5 <= x <= 1.75 and 1.5 < y < 2.5) or (2.25 <= x <= 2.5 and 1.5 < y < 2.5) or (1.75 <= x <= 2.25 and 2.25 < y < 2.5) or (1.5 <= x <= 2.5 and 1.5 < y < 1.75) or ((x**2 + y**2 - 4*y + 3 < 0) and (x**2 + y**2 - 4*y + 3.75 > 0)):\n",
    "        print('para a coordenada', (x,y) , 'a resposta deve ser False')\n",
    "    else:\n",
    "        print('para a coordenada', (x,y) , 'a resposta deve ser', True)"
   ]
  },
  {
   "cell_type": "markdown",
   "metadata": {},
   "source": [
    "#### Outra forma de pensar,,primeiro eu penso dentro e depois fora..de dentro para fora"
   ]
  },
  {
   "cell_type": "markdown",
   "metadata": {},
   "source": [
    "Solução com menos elifs e menos else"
   ]
  },
  {
   "cell_type": "code",
   "execution_count": 1,
   "metadata": {},
   "outputs": [
    {
     "name": "stdout",
     "output_type": "stream",
     "text": [
      " digite o par x: -2.5\n",
      " digite o par y: 0.5\n",
      "para a coordenada (-2.5, 0.5) a resposta deve ser False\n"
     ]
    }
   ],
   "source": [
    "x = float(input(' digite o par x: '))\n",
    "y = float(input(' digite o par y: '))\n",
    "#circunferencia menor \n",
    "if x**2 + y**2 - 4*y + 3.75 < 0:\n",
    "    print('para a coordenada', (x,y) , 'a resposta deve ser True')\n",
    "#circunferencia maior\n",
    "elif x**2 + y**2 - 4*y + 3 < 0:   #área do círculo, parte branca\n",
    "    print('para a coordenada', (x,y) , 'a resposta deve ser False')\n",
    "#quadro esquerdo superior\n",
    "elif -2.5 <= x <= -1.5 and 2.5 <= y <= 3.5:\n",
    "    print('para a coordenada', (x,y) , 'a resposta deve ser False')\n",
    "#quadrado esquerdo inferior\n",
    "elif -2.5 <= x <= -1.5  and 0.5 <= y <= 1.5:\n",
    "    print('para a coordenada', (x,y) , 'a resposta deve ser False')\n",
    "#quadrado direito menor\n",
    "elif 1.75 <= x <= 2.25 and 1.75 <= y <= 2.25:\n",
    "    print('para a coordenada', (x,y) , 'a resposta deve ser True')\n",
    "#quadrado direito maior\n",
    "elif 1.5 <= x <= 2.5  and 1.5 <= y <= 2.5:\n",
    "    print('para a coordenada', (x,y) , 'a resposta deve ser False')\n",
    "#retangulo maior esquerdo\n",
    "elif -3 <= x <= 2 and 0 <= y <= 4 or  2 <= x <= 3 and 1 <= y <=3:\n",
    "    print('para a coordenada', (x,y) , 'a resposta deve ser True')\n",
    "else:\n",
    "    print('para a coordenada', (x,y) , 'a resposta deve ser False')\n"
   ]
  },
  {
   "cell_type": "code",
   "execution_count": null,
   "metadata": {},
   "outputs": [],
   "source": []
  },
  {
   "cell_type": "code",
   "execution_count": null,
   "metadata": {},
   "outputs": [],
   "source": []
  }
 ],
 "metadata": {
  "kernelspec": {
   "display_name": "Python 3",
   "language": "python",
   "name": "python3"
  },
  "language_info": {
   "codemirror_mode": {
    "name": "ipython",
    "version": 3
   },
   "file_extension": ".py",
   "mimetype": "text/x-python",
   "name": "python",
   "nbconvert_exporter": "python",
   "pygments_lexer": "ipython3",
   "version": "3.7.6"
  }
 },
 "nbformat": 4,
 "nbformat_minor": 4
}
