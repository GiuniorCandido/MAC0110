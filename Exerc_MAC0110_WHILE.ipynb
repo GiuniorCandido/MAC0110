{
 "cells": [
  {
   "cell_type": "markdown",
   "metadata": {},
   "source": [
    "# comando while: REPETIÇÃO"
   ]
  },
  {
   "cell_type": "markdown",
   "metadata": {},
   "source": [
    "#### Dados números inteiros n e k, com k >= 0, calcular n elevado a k. Por exemplo, dados os números 3 e 4 o seu programa deve escrever o número 81."
   ]
  },
  {
   "cell_type": "code",
   "execution_count": 2,
   "metadata": {},
   "outputs": [
    {
     "name": "stdout",
     "output_type": "stream",
     "text": [
      "Digite a base n: 3\n",
      "Digite a potencia k: 4\n",
      "81\n"
     ]
    }
   ],
   "source": [
    "n = int( input('Digite a base n: '))\n",
    "k= int(input('Digite a potencia k: '))\n",
    "pow = n**k \n",
    "print(pow)"
   ]
  },
  {
   "cell_type": "markdown",
   "metadata": {},
   "source": [
    "Dado um número inteiro n >= 0, calcular n!.\n",
    "\n",
    "Tente escrever a sua solução abaixo primeiro e, depois, clique aqui para ver uma.\n",
    "\n"
   ]
  },
  {
   "cell_type": "code",
   "execution_count": null,
   "metadata": {},
   "outputs": [],
   "source": []
  },
  {
   "cell_type": "markdown",
   "metadata": {},
   "source": [
    "Dados números inteiros n, i e j, todos maiores do que zero, imprimir em ordem crescente os n primeiros naturais que são múltiplos de i ou de j e ou de ambos.\n",
    "\n",
    "Por exemplo, para n = 6, i = 2 e j = 3 a saída deverá ser:\n",
    "\n",
    "0   2   3   4   6   8"
   ]
  },
  {
   "cell_type": "code",
   "execution_count": null,
   "metadata": {},
   "outputs": [],
   "source": []
  },
  {
   "cell_type": "markdown",
   "metadata": {},
   "source": [
    "Dados dois inteiros positivos calcular o máximo divisor comum entre eles usando o algoritmo de Euclides.\n",
    "\n",
    "https://pt.wikipedia.org/wiki/Algoritmo_de_Euclides"
   ]
  },
  {
   "cell_type": "markdown",
   "metadata": {},
   "source": [
    "## EP 03\n",
    "Objetivos\n",
    "Praticar o uso do comando de repetição while junto com expressões envolvendo operadores relacionais (<, >, …) e valores inteiros (int). Além disso, será praticado o uso dos operadores aritméticos // e %.\n",
    "\n",
    "Antes de começar\n",
    "É recomendado que antes de fazer este EP você leia sobre:\n",
    "\n",
    "Expressões aritméticas, relacionais e lógicas\n",
    "Variáveis, tipos e funções de entrada e saída.\n",
    "Comando de repetição: while.\n",
    "Dígitos verificadores\n",
    "Um algarismo ou dígito é um símbolo como 2 ou 7 usado em combinações para representar valores, como o 722. No sistema de numeração decimal são utilizados os dígitos 0, 1, …, 9.\n",
    "\n",
    "Dígitos verificadores (DVs, check digit) são dígitos concatenados a valores numéricos a fim de verificar a autenticidade ou detectar erros de digitação como um algarismo digitado incorretamente ou alguma permutação de algarismos adjacentes.\n",
    "\n",
    "Números de documentos de identificação, como RG e CPF, utilizam dígitos de verificação. Cartões de crédito, boletos bancários, registros de encomendas, processos judiciais, títulos eleitorais e quaisquer outros códigos numéricos que necessitem de maior segurança também utilizam dígitos verificadores.\n",
    "\n",
    "DVs de MAC0110\n",
    "Em MAC0110 o DV de um número inteiro não-negativo será formado por um par dv1 e dv2 de dígitos verificadores. Os dígitos dv1 e dv2 serão algarismos entre 0 e 9 calculados como descrito a seguir.\n",
    "\n",
    "Para determinar o valor dv1 de um número inteiro n = d1d2…dk − 1dk, onde di é um dígito entre 0 e 9, devemos primeiro calcular a soma\n",
    "1 × d1 + 2 × d2 + 3 × d3 + ⋯ + k × dk.\n",
    "O dígito verificador dv1 será o resto da divisão dessa soma por 11. Se esse resto for 10, então dv1 será 0.\n",
    "\n",
    "Por exemplo, para o número n=280012386 temos que a soma acima é\n",
    "1 × 2 + 2 × 8 + 3 × 0 + 4 × 0 + 5 × 1 + 6 × 2 + 7 × 3 + 8 × 8 + 9 × 6 = 174,\n",
    "e portanto dv1 é 9.\n",
    "\n",
    "O dígito verificador dv2 será determinado de maneira semelhante. Primeiro calculamos uma soma levemente diferente da anterior\n",
    "0 × d1 + 1 × d2 + 2 × d3 + 3 × d4 + ⋯ + (k − 1) × dk + k × dv1.\n",
    "O dígito dv2 será o resto da divisão dessa soma por 11. Se esse resto for 10, então dv2 será 0.\n",
    "\n",
    "Continuando o exemplo para o número n=280012386, essa nova soma é\n",
    "0 × 2 + 1 × 8 + 2 × 0 + 3 × 0 + 4 × 1 + 5 × 2 + 6 × 3 + 7 × 8 + 8 × 6 + 9 × 9 = 225,\n",
    "e portanto dv2 é 5.\n",
    "\n",
    "Dessa forma, o DV de MAC0110 para o número 280012386 será o par 9 5.\n",
    "\n",
    "### Exercício programa\n",
    "#### Faça um programa que leia um número inteiro n maior que zero e imprima o DV de MAC0110 de n. As mensagens exibidas pelo seu programa devem ser idênticas àquelas exibidas no exemplos a seguir. O seu programa pode supor, sem verificar, que o dígito mais significado de n é diferente de zero. Isso significa que seu programa pode supor que n não é números como 007, 012345678, 0009\n",
    "\n",
    "Hmm. Testando o seu programa com os 9 primeiros dígitos do seu CPF, qual o DV de MAC0110 obtido?\n",
    "\n",
    "Hmm. Qual é o menor inteiro positivo n para o qual o DV de MAC0110 é 0 0?\n",
    "\n",
    "Exemplos\n",
    "A seguir estão exemplos de 6 execução do programa como seriam vistos no Console do Spyder.\n",
    "\n",
    "O que aparece vermelho foi digitado pelo usuário. Observe que nesses exemplos o que aparece dentro do runfile() depois do prompt (como “In [1]:”) depende de onde você salvou o seu arquivo e da forma que você usou para executá-lo. Ou seja, essa parte não precisa ser a mesma.\n",
    "\n",
    "Observe também que parte dos espaçamentos é devido ao ambiente do Spyder. Por exemplo, a função input(\"mensagem\") pula uma linha antes de exibir a mensagem, o que pode causar uma certa confusão inicial.\n",
    "\n",
    "Exemplo 1\n",
    "    In [1]: runfile('/Users/aluno/mac0110-2020/ep03/ep03.py', wdir='/Users/aluno/mac0110-2020/ep03/')\n",
    "\n",
    "    Digite n: 1  \n",
    "    DV= 1 1\n",
    "\n",
    "    In [2]:\n",
    "Exemplo 2\n",
    "    In [2]: runfile('/Users/aluno/mac0110-2020/ep03/ep03.py', wdir='/Users/aluno/mac0110-2020/ep03/')\n",
    "\n",
    "    Digite n: 77  \n",
    "    DV= 0 7\n",
    "\n",
    "    In [3]:\n",
    "Exemplo 3\n",
    "    In [3]: runfile('/Users/aluno/mac0110-2020/ep03/ep03.py', wdir='/Users/aluno/mac0110-2020/ep03/')\n",
    "\n",
    "    Digite n: 15  \n",
    "    DV= 0 5\n",
    "\n",
    "    In [4]:\n",
    "Exemplo 4\n",
    "    In [4]: runfile('/Users/aluno/mac0110-2020/ep03/ep03.py', wdir='/Users/aluno/mac0110-2020/ep03/')\n",
    "\n",
    "    Digite n: 123456789  \n",
    "    DV= 0 9\n",
    "\n",
    "    In [5]:\n",
    "Exemplo 5\n",
    "    In [5]: runfile('/Users/aluno/mac0110-2020/ep03/ep03.py', wdir='/Users/aluno/mac0110-2020/ep03/')\n",
    "\n",
    "    Digite n: 908070605040302010  \n",
    "    DV= 0 9\n",
    "\n",
    "    In [6]:\n",
    "Exemplo 6\n",
    "    In [6]: runfile('/Users/aluno/mac0110-2020/ep03/ep03.py', wdir='/Users/aluno/mac0110-2020/ep03/')\n",
    "\n",
    "    Digite n: 1234567890987654321  \n",
    "    DV= 9 2\n",
    "\n",
    "    In [7]:\n",
    "Honestidade Acadêmica\n",
    "Esse é um exercício individual, não em grupo. Isso não significa que você não pode receber ajuda de outras pessoas, inclusive de seus colegas. De uma forma geral, gostaríamos de incentivar as discussões de ideias, conceitos e alternativas de solução. Nossa maior recomendação é evitar olhar o código fonte de uma solução antes de escrever o seu programa. Em caso de dúvida, consulte nossa política de colaboração.\n",
    "\n",
    "De forma sucinta, evite as seguintes ações que caracterizam desonestidade acadêmica na realização dos trabalhos individuais desse curso:\n",
    "\n",
    "buscar e obter uma solução (parcial ou completa, correta ou não) de exercício programa (EP) na internet ou qualquer outro meio físico ou virtual, durante o período de submissão do referido EP;\n",
    "solicitar ou obter uma cópia (parcial ou completa, correta ou não) da solução de um EP durante o seu período de submissão;\n",
    "permitir que um colega acesse uma cópia (parcial ou completa, correta ou não) do seu EP, durante o período de submissão;\n",
    "ainda mais grave é o plágio, que se configura pela utilização de qualquer material não visto em aula ou não descrito no enunciado, que não seja de sua autoria, em parte ou ao todo, e entregar, com ou sem edição, como se fosse seu trabalho, para ser avaliado.\n",
    "Roteiro\n",
    "Baixe o arquivo ep03.py para uma pasta do seu computador. Este é o único arquivo que deverá ser depositado nesta página.\n",
    "\n",
    "Leia o cabeçalho com atenção e preencha o seu nome e número USP.\n",
    "\n",
    "Implemente e teste o seu programa.\n",
    "\n",
    "Depois de testar o seu EP, deposite-o na página da disciplina.\n",
    "\n",
    "IMPORTANTE: o EP03 pode ser enviado 10 vezes sem prejuízo de nota. A partir da 10a submissão, haverá um desconto de 0.5 (meio ponto) por nova submissão. Portanto, verifique as mensagem do programa avaliador e, caso necessário, faça eventuais correções e ressubmeta o seu EP. Evite submissões desnecessárias. Procure depurar o seu programa no seu computador, usando o Spyder.\n",
    "\n"
   ]
  },
  {
   "cell_type": "code",
   "execution_count": null,
   "metadata": {},
   "outputs": [],
   "source": [
    "n = int(input('Digite um n: '))\n",
    "k=1\n",
    "while k<n:\n",
    "    k = n*k\n",
    "    k+=1\n",
    "    "
   ]
  },
  {
   "cell_type": "code",
   "execution_count": null,
   "metadata": {},
   "outputs": [],
   "source": [
    "def calcula_digito(multiplicador, inicio = 0):\n",
    "    total = 0\n",
    "    indice = inicio\n",
    "    while True:\n",
    "        if multiplicador >= 2:\n",
    "            total += digitos[indice] * multiplicador\n",
    "            multiplicador -= 1\n",
    "            indice += 1\n",
    "        else: break\n",
    "    resto = total % 11\n",
    "    if resto < 2:\n",
    "        return 0\n",
    "    else:\n",
    "        return 11 - resto"
   ]
  },
  {
   "cell_type": "code",
   "execution_count": null,
   "metadata": {},
   "outputs": [],
   "source": [
    " def calcula_digito(285165165415)"
   ]
  },
  {
   "cell_type": "code",
   "execution_count": null,
   "metadata": {},
   "outputs": [],
   "source": [
    "x = int(input(\"Numero: \"))\n",
    "\n",
    "soma = 0\n",
    "\n",
    "while (x != 0):\n",
    "    resto = x % 10\n",
    "    x = (x - resto)//10\n",
    "    soma = soma + resto\n",
    "print(soma)"
   ]
  },
  {
   "cell_type": "code",
   "execution_count": null,
   "metadata": {},
   "outputs": [],
   "source": []
  }
 ],
 "metadata": {
  "kernelspec": {
   "display_name": "Python 3",
   "language": "python",
   "name": "python3"
  },
  "language_info": {
   "codemirror_mode": {
    "name": "ipython",
    "version": 3
   },
   "file_extension": ".py",
   "mimetype": "text/x-python",
   "name": "python",
   "nbconvert_exporter": "python",
   "pygments_lexer": "ipython3",
   "version": "3.7.3"
  }
 },
 "nbformat": 4,
 "nbformat_minor": 2
}
