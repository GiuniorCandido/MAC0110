{
 "cells": [
  {
   "cell_type": "markdown",
   "metadata": {},
   "source": [
    "# comando while: REPETIÇÃO"
   ]
  },
  {
   "cell_type": "markdown",
   "metadata": {},
   "source": [
    "#### Dados números inteiros n e k, com k >= 0, calcular n elevado a k. Por exemplo, dados os números 3 e 4 o seu programa deve escrever o número 81."
   ]
  },
  {
   "cell_type": "code",
   "execution_count": 2,
   "metadata": {},
   "outputs": [
    {
     "name": "stdout",
     "output_type": "stream",
     "text": [
      "Digite a base n: 3\n",
      "Digite a potencia k: 4\n",
      "81\n"
     ]
    }
   ],
   "source": [
    "n = int( input('Digite a base n: '))\n",
    "k= int(input('Digite a potencia k: '))\n",
    "pow = n**k \n",
    "print(pow)"
   ]
  },
  {
   "cell_type": "markdown",
   "metadata": {},
   "source": [
    "Dado um número inteiro n >= 0, calcular n!.\n",
    "\n",
    "Tente escrever a sua solução abaixo primeiro e, depois, clique aqui para ver uma.\n",
    "\n"
   ]
  },
  {
   "cell_type": "code",
   "execution_count": null,
   "metadata": {},
   "outputs": [],
   "source": []
  },
  {
   "cell_type": "markdown",
   "metadata": {},
   "source": [
    "Dados números inteiros n, i e j, todos maiores do que zero, imprimir em ordem crescente os n primeiros naturais que são múltiplos de i ou de j e ou de ambos.\n",
    "\n",
    "Por exemplo, para n = 6, i = 2 e j = 3 a saída deverá ser:\n",
    "\n",
    "0   2   3   4   6   8"
   ]
  },
  {
   "cell_type": "code",
   "execution_count": null,
   "metadata": {},
   "outputs": [],
   "source": []
  },
  {
   "cell_type": "markdown",
   "metadata": {},
   "source": [
    "Dados dois inteiros positivos calcular o máximo divisor comum entre eles usando o algoritmo de Euclides.\n",
    "\n",
    "https://pt.wikipedia.org/wiki/Algoritmo_de_Euclides"
   ]
  },
  {
   
}
