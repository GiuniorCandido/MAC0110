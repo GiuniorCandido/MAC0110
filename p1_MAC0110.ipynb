{
  "nbformat": 4,
  "nbformat_minor": 0,
  "metadata": {
    "colab": {
      "name": "p1_MAC0110.ipynb",
      "provenance": [],
      "authorship_tag": "ABX9TyO/SK7cQH9+TO2wQ52N+iLg",
      "include_colab_link": true
    },
    "kernelspec": {
      "name": "python3",
      "display_name": "Python 3"
    }
  },
  "cells": [
    {
      "cell_type": "markdown",
      "metadata": {
        "id": "view-in-github",
        "colab_type": "text"
      },
      "source": [
        "<a href=\"https://colab.research.google.com/github/GiuniorCandido/MAC0110/blob/master/p1_MAC0110.ipynb\" target=\"_parent\"><img src=\"https://colab.research.google.com/assets/colab-badge.svg\" alt=\"Open In Colab\"/></a>"
      ]
    },
    {
      "cell_type": "markdown",
      "metadata": {
        "id": "GjEC51RBQ-Gd",
        "colab_type": "text"
      },
      "source": [
        "Função duzia()\n",
        "Um número escrito no sistema de numeração na base 12 utiliza os dígitos 0123456789ab, onde dígito a equivale ao inteiro 10 e dígito b equivale ao inteiro 11.\n",
        "\n",
        "Lembre-se que no sistema decimal, o número ‘426’ equivale a\n",
        "\n",
        "    4×102 + 2×101 + 6×100 = 400 + 20 + 6 = 426\n",
        "Da mesma forma, na base 12 o número ‘ab3’ equivale ao inteiro decimal 1575 pois\n",
        "\n",
        "    a×122 + b×121 + 3×120 = 10×144 + 11×12 + 3 = 1575  \n",
        "O que você deve fazer\n",
        "Escreva a função duzia() como especificada abaixo.\n",
        "\n",
        "      def duzia( s ):\n",
        "      ''' (str) -> int\n",
        "      RECEBE uma string `s` que representa um número na base 12. \n",
        "      RETORNA o número inteiro equivalente. \n",
        "      '''\n",
        "        Exemplos de execuções\n",
        "        duzia(‘7’) -> retorna 7\n",
        "        duzia(‘10’) -> retorna 12\n",
        "        duzia(‘a0’) -> retorna 120\n",
        "        duzia(‘2b’) -> retorna 35\n",
        "        duzia(‘55’) -> retorna 65\n",
        "        duzia(‘ab3’) -> retorna 1575"
      ]
    },
    {
      "cell_type": "code",
      "metadata": {
        "id": "jD5z0L5BQ32R",
        "colab_type": "code",
        "colab": {}
      },
      "source": [
        "def duzia(s):\n",
        "    # tamanho da string que define o expoente da base 12\n",
        "    posicao_string = len(s) - 1 \n",
        "    soma_base12 = 0\n",
        "    # para percorer cada termo na string\n",
        "    for i in range(len(s)):   \n",
        "        #se NAO for letra; será o numero \n",
        "        if not s[i].isalpha():\n",
        "            soma_base12 += int(s[i]) * 12**posicao_string\n",
        "            posicao_string -= 1\n",
        "        # se FOR a letra -string- a\n",
        "        elif s[i] == 'a':     \n",
        "            soma_base12 += 10 * 12**posicao_string\n",
        "            posicao_string -= 1\n",
        "        # se for a letra -string- b\n",
        "        elif s[i] == 'b':     \n",
        "            soma_base12 += 11 * 12**posicao_string\n",
        "            posicao_string -= 1\n",
        "    return soma_base12\n"
      ],
      "execution_count": 0,
      "outputs": []
    },
    {
      "cell_type": "markdown",
      "metadata": {
        "id": "TiFfMnwWRPBb",
        "colab_type": "text"
      },
      "source": [
        "Função parmim()\n",
        "    A distância entre dois números inteiros é a sua diferença em valor  absoluto.   \n",
        "   Assim, a distância entre o par -2 e 5 é 7 e a distância entre par 8 e 3 é 5.\n",
        "\n",
        "    O que você deve fazer\n",
        "    Escreva a função parmim() como especificada abaixo.\n",
        "\n",
        "    def parmin( lst ):\n",
        "        ''' (list) -> int, int\n",
        "        RECEBE uma lista `lst` de números inteiros de comprimento pelo menos 2.\n",
        "        RETORNA os dois números na lista cuja distância entre eles é mínima. \n",
        "        Em caso de empate entre as distâncias de mais de um par de números, \n",
        "        a função pode retornar qualquer um desses pares.\n",
        "        '''\n",
        "        Exemplos de execução\n",
        "          parmin([-2, 5]) -> retorna o par de números (-2, 5)\n",
        "          parmin([8, -2, 5]) -> retorna o par de números (8, 5)\n",
        "          parmin([8, 3, -2, 5]) -> retorna o par de números (3, 5)\n",
        "          parmin([8, 3, -2, 5, 8]) -> retorna o par de números (8, 8)\n",
        "          parmin([-2, 12, 6, 9]) -> retorna o par de números (12, 9)\n",
        "          parmin([15, 3, -9, 8, -6, 25]) -> retorna o par de números (-9, -6)\n",
        "          parmin([-10, -3, 0, 2, 6, 15]) -> retorna o par de números (0, 2)"
      ]
    },
    {
      "cell_type": "code",
      "metadata": {
        "id": "1jzdPDRzRr3X",
        "colab_type": "code",
        "colab": {}
      },
      "source": [
        "def parmin(lst):\n",
        "    subtraido = lst[1] - lst[0]  #  guarda a 1a subtracao\n",
        "    if subtraido < 0:            #  checa se é negativo e torna positivo\n",
        "        subtraido *= -1\n",
        "        par_menor = [lst[0], lst[1]] #salva o primeiro par como o menor par\n",
        "    else:\n",
        "        par_menor = [lst[0], lst[1]]\n",
        "    for i in range(0, len(lst)):    # para cada termo da lista\n",
        "        for j in range(i+1, len(lst)):  #para cada termo i, termo i+1,da lista( desloca para frente)\n",
        "            par_teste = lst[j] - lst[i]  \n",
        "            if par_teste >= 0:      #se for positivo\n",
        "                if par_teste < subtraido:   #checa se é menor do que o atual\n",
        "                    par_menor = [lst[i], lst[j]] #se for, guarda o par\n",
        "                    subtraido = par_teste   # e o par teste vira subtraido\n",
        "            else:   #se for negativo\n",
        "                par_teste *= -1  #torna ele positivo\n",
        "                if par_teste < subtraido:   \n",
        "                    par_menor = [lst[i], lst[j]]\n",
        "                    subtraido = par_teste\n",
        "    return par_menor"
      ],
      "execution_count": 0,
      "outputs": []
    }
  ]
}